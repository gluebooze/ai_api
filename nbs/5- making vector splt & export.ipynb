{
 "cells": [
  {
   "cell_type": "code",
   "execution_count": null,
   "id": "151a96cf",
   "metadata": {},
   "outputs": [],
   "source": [
    "import pathlib\n",
    "import pandas as pd\n",
    "import random\n",
    "\n",
    "BASE_DIR= pathlib.Path().resolve().parent\n",
    "DATABASE_DIR = BASE_DIR / 'datasets'\n",
    "EXPORT_DIR = DATABASE_DIR / 'exports'\n",
    "EXPORT_DIR.mkdir(exist_ok=True,parents=True)\n",
    "SPAM_DATASET_PATH = EXPORT_DIR / 'spam-dataset.csv'\n",
    "\n",
    "METADATA_EXPORT_PATH = EXPORT_DIR / 'spam-metadata.pkl'\n",
    "TOKENIZER_EXPORT_PATH = EXPORT_DIR / 'spam-tokenizer.json'"
   ]
  },
  {
   "cell_type": "code",
   "execution_count": null,
   "id": "d5eb21be",
   "metadata": {},
   "outputs": [],
   "source": [
    "df = pd.read_csv(SPAM_DATASET_PATH)\n",
    "df.head()"
   ]
  },
  {
   "cell_type": "code",
   "execution_count": null,
   "id": "82b4f1af",
   "metadata": {},
   "outputs": [],
   "source": [
    "labels= df['label'].tolist()\n",
    "texts= df['text'].tolist()"
   ]
  },
  {
   "cell_type": "code",
   "execution_count": null,
   "id": "cea60bfb",
   "metadata": {},
   "outputs": [],
   "source": [
    "label_legend = {\"ham\": 0, \"spam\": 1}\n",
    "label_legend_inverted = {f\"{v}\": k for k,v in label_legend.items()}"
   ]
  },
  {
   "cell_type": "code",
   "execution_count": null,
   "id": "f2154a38",
   "metadata": {},
   "outputs": [],
   "source": [
    "label_legend_inverted"
   ]
  },
  {
   "cell_type": "code",
   "execution_count": null,
   "id": "d93df790",
   "metadata": {},
   "outputs": [],
   "source": [
    "label_as_int = [label_legend[x] for x in labels ]"
   ]
  },
  {
   "cell_type": "code",
   "execution_count": null,
   "id": "0a43a19b",
   "metadata": {},
   "outputs": [],
   "source": [
    "random_idx = random.randint(0,len(labels))\n",
    "\n",
    "assert texts[random_idx]  == df.iloc[random_idx].text\n",
    "assert label_legend_inverted[str(label_as_int[random_idx])]  == df.iloc[random_idx].label"
   ]
  },
  {
   "cell_type": "code",
   "execution_count": null,
   "id": "dabb5d99",
   "metadata": {},
   "outputs": [],
   "source": [
    "from tensorflow.keras.preprocessing.text import Tokenizer"
   ]
  },
  {
   "cell_type": "code",
   "execution_count": null,
   "id": "dd3afc6a",
   "metadata": {},
   "outputs": [],
   "source": [
    "MAX_NUM_WORDS = 280"
   ]
  },
  {
   "cell_type": "code",
   "execution_count": null,
   "id": "77433fa1",
   "metadata": {},
   "outputs": [],
   "source": [
    "tokenizer = Tokenizer(num_words=MAX_NUM_WORDS)\n",
    "tokenizer.fit_on_texts(texts)\n",
    "sequences = tokenizer.texts_to_sequences(texts)\n",
    "sequences"
   ]
  },
  {
   "cell_type": "code",
   "execution_count": null,
   "id": "5f426555",
   "metadata": {},
   "outputs": [],
   "source": [
    "tokenizer.word_index"
   ]
  },
  {
   "cell_type": "code",
   "execution_count": null,
   "id": "3092c7af",
   "metadata": {},
   "outputs": [],
   "source": [
    "from tensorflow.keras.preprocessing.sequence import pad_sequences"
   ]
  },
  {
   "cell_type": "code",
   "execution_count": null,
   "id": "e72c0203",
   "metadata": {},
   "outputs": [],
   "source": [
    "MAX_SEQUENCE_LENGTH = 300"
   ]
  },
  {
   "cell_type": "code",
   "execution_count": null,
   "id": "37140b8a",
   "metadata": {},
   "outputs": [],
   "source": [
    "x= pad_sequences(sequences,maxlen=MAX_SEQUENCE_LENGTH)\n",
    "x"
   ]
  },
  {
   "cell_type": "code",
   "execution_count": null,
   "id": "ae4816b5",
   "metadata": {},
   "outputs": [],
   "source": [
    "import numpy as np\n",
    "from tensorflow.keras.utils import to_categorical\n"
   ]
  },
  {
   "cell_type": "code",
   "execution_count": null,
   "id": "4d692ef7",
   "metadata": {},
   "outputs": [],
   "source": [
    "labels_as_int_array = np.asarray(label_as_int)\n",
    "labels_as_int_array"
   ]
  },
  {
   "cell_type": "code",
   "execution_count": null,
   "id": "ce0fb995",
   "metadata": {},
   "outputs": [],
   "source": [
    "y=to_categorical(labels_as_int_array)\n",
    "y"
   ]
  },
  {
   "cell_type": "code",
   "execution_count": null,
   "id": "ae7785ee",
   "metadata": {},
   "outputs": [],
   "source": [
    "from sklearn.model_selection import train_test_split"
   ]
  },
  {
   "cell_type": "code",
   "execution_count": null,
   "id": "08530853",
   "metadata": {},
   "outputs": [],
   "source": [
    "import pickle"
   ]
  },
  {
   "cell_type": "code",
   "execution_count": null,
   "id": "cc361b48",
   "metadata": {},
   "outputs": [],
   "source": [
    "X_train,X_test,y_train,y_test = train_test_split(x,y,test_size=0.333,random_state=42)"
   ]
  },
  {
   "cell_type": "code",
   "execution_count": null,
   "id": "b56047ef",
   "metadata": {},
   "outputs": [],
   "source": [
    "training_data={\n",
    "    \"X_train\" : X_train,\n",
    "    \"X_test\" : X_test,\n",
    "    \"y_train\" : y_train,\n",
    "    \"y_test\" : y_test,\n",
    "    \"max_words\" : MAX_NUM_WORDS,\n",
    "    \"max_sequence\" : MAX_SEQUENCE_LENGTH,\n",
    "    \"legend\" : label_legend,\n",
    "    \"labels_legend_inverted\" : label_legend_inverted,\n",
    "    \"tokenizer\" : tokenizer,\n",
    "}\n",
    "\n",
    "tokenizer_json = tokenizer.to_json()\n",
    "TOKENIZER_EXPORT_PATH.write_text(tokenizer_json)"
   ]
  },
  {
   "cell_type": "code",
   "execution_count": null,
   "id": "64610de8",
   "metadata": {},
   "outputs": [],
   "source": [
    "with open(METADATA_EXPORT_PATH,'wb') as f:\n",
    "    pickle.dump(training_data,f)"
   ]
  },
  {
   "cell_type": "code",
   "execution_count": null,
   "id": "b0cd95e8",
   "metadata": {},
   "outputs": [],
   "source": [
    "data = {}\n",
    "\n",
    "with open(TRAINING_DATA_PATH, 'rb') as f:\n",
    "    data = pickle.load(f)"
   ]
  }
 ],
 "metadata": {
  "kernelspec": {
   "display_name": "Python 3 (ipykernel)",
   "language": "python",
   "name": "python3"
  },
  "language_info": {
   "codemirror_mode": {
    "name": "ipython",
    "version": 3
   },
   "file_extension": ".py",
   "mimetype": "text/x-python",
   "name": "python",
   "nbconvert_exporter": "python",
   "pygments_lexer": "ipython3",
   "version": "3.9.10"
  }
 },
 "nbformat": 4,
 "nbformat_minor": 5
}
